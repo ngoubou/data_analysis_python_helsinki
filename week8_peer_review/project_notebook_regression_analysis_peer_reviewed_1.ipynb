{
 "cells": [
  {
   "cell_type": "markdown",
   "metadata": {},
   "source": [
    "# Linear regression"
   ]
  },
  {
   "cell_type": "markdown",
   "metadata": {},
   "source": [
    "Import all the modules you will need in this notebook here:"
   ]
  },
  {
   "cell_type": "code",
   "execution_count": 261,
   "metadata": {},
   "outputs": [
    {
     "data": {
      "text/plain": [
       "21"
      ]
     },
     "execution_count": 261,
     "metadata": {},
     "output_type": "execute_result"
    }
   ],
   "source": [
    "# exercise 0\n",
    "# Put your solution here!\n",
    "import pandas as pd\n",
    "import numpy as np\n",
    "import matplotlib.pyplot as plt\n",
    "import statsmodels\n",
    "import statsmodels.api as sm\n",
    "import statsmodels.formula.api as smf\n",
    "from statsmodels.graphics.regressionplots import abline_plot\n",
    "21"
   ]
  },
  {
   "cell_type": "markdown",
   "metadata": {},
   "source": [
    "We continue analysing the `fram` heart disease data.\n",
    "\n",
    "First load the data, use the name `fram` for the DataFrame variable. Make sure that in the data you loaded the column and row headers are in place. Checkout the summary of the variables using the `describe` method."
   ]
  },
  {
   "cell_type": "code",
   "execution_count": 262,
   "metadata": {},
   "outputs": [
    {
     "ename": "FileNotFoundError",
     "evalue": "[Errno 2] No such file or directory: 'src/fram.txt'",
     "output_type": "error",
     "traceback": [
      "\u001b[1;31m---------------------------------------------------------------------------\u001b[0m",
      "\u001b[1;31mFileNotFoundError\u001b[0m                         Traceback (most recent call last)",
      "\u001b[1;32m~\\AppData\\Local\\Temp/ipykernel_10512/1849903602.py\u001b[0m in \u001b[0;36m<module>\u001b[1;34m\u001b[0m\n\u001b[0;32m     10\u001b[0m \u001b[1;33m\u001b[0m\u001b[0m\n\u001b[0;32m     11\u001b[0m \u001b[1;31m# Put your solution here!\u001b[0m\u001b[1;33m\u001b[0m\u001b[1;33m\u001b[0m\u001b[0m\n\u001b[1;32m---> 12\u001b[1;33m \u001b[0mfram\u001b[0m \u001b[1;33m=\u001b[0m \u001b[0mpd\u001b[0m\u001b[1;33m.\u001b[0m\u001b[0mread_csv\u001b[0m\u001b[1;33m(\u001b[0m\u001b[1;34m'src/fram.txt'\u001b[0m\u001b[1;33m,\u001b[0m \u001b[0msep\u001b[0m\u001b[1;33m=\u001b[0m\u001b[1;34m\"\\t\"\u001b[0m\u001b[1;33m)\u001b[0m\u001b[1;33m\u001b[0m\u001b[1;33m\u001b[0m\u001b[0m\n\u001b[0m\u001b[0;32m     13\u001b[0m \u001b[0mprint\u001b[0m\u001b[1;33m(\u001b[0m\u001b[0mfram\u001b[0m\u001b[1;33m.\u001b[0m\u001b[0mhead\u001b[0m\u001b[1;33m(\u001b[0m\u001b[1;33m)\u001b[0m\u001b[1;33m)\u001b[0m\u001b[1;33m\u001b[0m\u001b[1;33m\u001b[0m\u001b[0m\n\u001b[0;32m     14\u001b[0m \u001b[0mfram\u001b[0m\u001b[1;33m.\u001b[0m\u001b[0mdescribe\u001b[0m\u001b[1;33m(\u001b[0m\u001b[1;33m)\u001b[0m\u001b[1;33m\u001b[0m\u001b[1;33m\u001b[0m\u001b[0m\n",
      "\u001b[1;32m~\\anaconda3\\lib\\site-packages\\pandas\\util\\_decorators.py\u001b[0m in \u001b[0;36mwrapper\u001b[1;34m(*args, **kwargs)\u001b[0m\n\u001b[0;32m    309\u001b[0m                     \u001b[0mstacklevel\u001b[0m\u001b[1;33m=\u001b[0m\u001b[0mstacklevel\u001b[0m\u001b[1;33m,\u001b[0m\u001b[1;33m\u001b[0m\u001b[1;33m\u001b[0m\u001b[0m\n\u001b[0;32m    310\u001b[0m                 )\n\u001b[1;32m--> 311\u001b[1;33m             \u001b[1;32mreturn\u001b[0m \u001b[0mfunc\u001b[0m\u001b[1;33m(\u001b[0m\u001b[1;33m*\u001b[0m\u001b[0margs\u001b[0m\u001b[1;33m,\u001b[0m \u001b[1;33m**\u001b[0m\u001b[0mkwargs\u001b[0m\u001b[1;33m)\u001b[0m\u001b[1;33m\u001b[0m\u001b[1;33m\u001b[0m\u001b[0m\n\u001b[0m\u001b[0;32m    312\u001b[0m \u001b[1;33m\u001b[0m\u001b[0m\n\u001b[0;32m    313\u001b[0m         \u001b[1;32mreturn\u001b[0m \u001b[0mwrapper\u001b[0m\u001b[1;33m\u001b[0m\u001b[1;33m\u001b[0m\u001b[0m\n",
      "\u001b[1;32m~\\anaconda3\\lib\\site-packages\\pandas\\io\\parsers\\readers.py\u001b[0m in \u001b[0;36mread_csv\u001b[1;34m(filepath_or_buffer, sep, delimiter, header, names, index_col, usecols, squeeze, prefix, mangle_dupe_cols, dtype, engine, converters, true_values, false_values, skipinitialspace, skiprows, skipfooter, nrows, na_values, keep_default_na, na_filter, verbose, skip_blank_lines, parse_dates, infer_datetime_format, keep_date_col, date_parser, dayfirst, cache_dates, iterator, chunksize, compression, thousands, decimal, lineterminator, quotechar, quoting, doublequote, escapechar, comment, encoding, encoding_errors, dialect, error_bad_lines, warn_bad_lines, on_bad_lines, delim_whitespace, low_memory, memory_map, float_precision, storage_options)\u001b[0m\n\u001b[0;32m    584\u001b[0m     \u001b[0mkwds\u001b[0m\u001b[1;33m.\u001b[0m\u001b[0mupdate\u001b[0m\u001b[1;33m(\u001b[0m\u001b[0mkwds_defaults\u001b[0m\u001b[1;33m)\u001b[0m\u001b[1;33m\u001b[0m\u001b[1;33m\u001b[0m\u001b[0m\n\u001b[0;32m    585\u001b[0m \u001b[1;33m\u001b[0m\u001b[0m\n\u001b[1;32m--> 586\u001b[1;33m     \u001b[1;32mreturn\u001b[0m \u001b[0m_read\u001b[0m\u001b[1;33m(\u001b[0m\u001b[0mfilepath_or_buffer\u001b[0m\u001b[1;33m,\u001b[0m \u001b[0mkwds\u001b[0m\u001b[1;33m)\u001b[0m\u001b[1;33m\u001b[0m\u001b[1;33m\u001b[0m\u001b[0m\n\u001b[0m\u001b[0;32m    587\u001b[0m \u001b[1;33m\u001b[0m\u001b[0m\n\u001b[0;32m    588\u001b[0m \u001b[1;33m\u001b[0m\u001b[0m\n",
      "\u001b[1;32m~\\anaconda3\\lib\\site-packages\\pandas\\io\\parsers\\readers.py\u001b[0m in \u001b[0;36m_read\u001b[1;34m(filepath_or_buffer, kwds)\u001b[0m\n\u001b[0;32m    480\u001b[0m \u001b[1;33m\u001b[0m\u001b[0m\n\u001b[0;32m    481\u001b[0m     \u001b[1;31m# Create the parser.\u001b[0m\u001b[1;33m\u001b[0m\u001b[1;33m\u001b[0m\u001b[0m\n\u001b[1;32m--> 482\u001b[1;33m     \u001b[0mparser\u001b[0m \u001b[1;33m=\u001b[0m \u001b[0mTextFileReader\u001b[0m\u001b[1;33m(\u001b[0m\u001b[0mfilepath_or_buffer\u001b[0m\u001b[1;33m,\u001b[0m \u001b[1;33m**\u001b[0m\u001b[0mkwds\u001b[0m\u001b[1;33m)\u001b[0m\u001b[1;33m\u001b[0m\u001b[1;33m\u001b[0m\u001b[0m\n\u001b[0m\u001b[0;32m    483\u001b[0m \u001b[1;33m\u001b[0m\u001b[0m\n\u001b[0;32m    484\u001b[0m     \u001b[1;32mif\u001b[0m \u001b[0mchunksize\u001b[0m \u001b[1;32mor\u001b[0m \u001b[0miterator\u001b[0m\u001b[1;33m:\u001b[0m\u001b[1;33m\u001b[0m\u001b[1;33m\u001b[0m\u001b[0m\n",
      "\u001b[1;32m~\\anaconda3\\lib\\site-packages\\pandas\\io\\parsers\\readers.py\u001b[0m in \u001b[0;36m__init__\u001b[1;34m(self, f, engine, **kwds)\u001b[0m\n\u001b[0;32m    809\u001b[0m             \u001b[0mself\u001b[0m\u001b[1;33m.\u001b[0m\u001b[0moptions\u001b[0m\u001b[1;33m[\u001b[0m\u001b[1;34m\"has_index_names\"\u001b[0m\u001b[1;33m]\u001b[0m \u001b[1;33m=\u001b[0m \u001b[0mkwds\u001b[0m\u001b[1;33m[\u001b[0m\u001b[1;34m\"has_index_names\"\u001b[0m\u001b[1;33m]\u001b[0m\u001b[1;33m\u001b[0m\u001b[1;33m\u001b[0m\u001b[0m\n\u001b[0;32m    810\u001b[0m \u001b[1;33m\u001b[0m\u001b[0m\n\u001b[1;32m--> 811\u001b[1;33m         \u001b[0mself\u001b[0m\u001b[1;33m.\u001b[0m\u001b[0m_engine\u001b[0m \u001b[1;33m=\u001b[0m \u001b[0mself\u001b[0m\u001b[1;33m.\u001b[0m\u001b[0m_make_engine\u001b[0m\u001b[1;33m(\u001b[0m\u001b[0mself\u001b[0m\u001b[1;33m.\u001b[0m\u001b[0mengine\u001b[0m\u001b[1;33m)\u001b[0m\u001b[1;33m\u001b[0m\u001b[1;33m\u001b[0m\u001b[0m\n\u001b[0m\u001b[0;32m    812\u001b[0m \u001b[1;33m\u001b[0m\u001b[0m\n\u001b[0;32m    813\u001b[0m     \u001b[1;32mdef\u001b[0m \u001b[0mclose\u001b[0m\u001b[1;33m(\u001b[0m\u001b[0mself\u001b[0m\u001b[1;33m)\u001b[0m\u001b[1;33m:\u001b[0m\u001b[1;33m\u001b[0m\u001b[1;33m\u001b[0m\u001b[0m\n",
      "\u001b[1;32m~\\anaconda3\\lib\\site-packages\\pandas\\io\\parsers\\readers.py\u001b[0m in \u001b[0;36m_make_engine\u001b[1;34m(self, engine)\u001b[0m\n\u001b[0;32m   1038\u001b[0m             )\n\u001b[0;32m   1039\u001b[0m         \u001b[1;31m# error: Too many arguments for \"ParserBase\"\u001b[0m\u001b[1;33m\u001b[0m\u001b[1;33m\u001b[0m\u001b[0m\n\u001b[1;32m-> 1040\u001b[1;33m         \u001b[1;32mreturn\u001b[0m \u001b[0mmapping\u001b[0m\u001b[1;33m[\u001b[0m\u001b[0mengine\u001b[0m\u001b[1;33m]\u001b[0m\u001b[1;33m(\u001b[0m\u001b[0mself\u001b[0m\u001b[1;33m.\u001b[0m\u001b[0mf\u001b[0m\u001b[1;33m,\u001b[0m \u001b[1;33m**\u001b[0m\u001b[0mself\u001b[0m\u001b[1;33m.\u001b[0m\u001b[0moptions\u001b[0m\u001b[1;33m)\u001b[0m  \u001b[1;31m# type: ignore[call-arg]\u001b[0m\u001b[1;33m\u001b[0m\u001b[1;33m\u001b[0m\u001b[0m\n\u001b[0m\u001b[0;32m   1041\u001b[0m \u001b[1;33m\u001b[0m\u001b[0m\n\u001b[0;32m   1042\u001b[0m     \u001b[1;32mdef\u001b[0m \u001b[0m_failover_to_python\u001b[0m\u001b[1;33m(\u001b[0m\u001b[0mself\u001b[0m\u001b[1;33m)\u001b[0m\u001b[1;33m:\u001b[0m\u001b[1;33m\u001b[0m\u001b[1;33m\u001b[0m\u001b[0m\n",
      "\u001b[1;32m~\\anaconda3\\lib\\site-packages\\pandas\\io\\parsers\\c_parser_wrapper.py\u001b[0m in \u001b[0;36m__init__\u001b[1;34m(self, src, **kwds)\u001b[0m\n\u001b[0;32m     49\u001b[0m \u001b[1;33m\u001b[0m\u001b[0m\n\u001b[0;32m     50\u001b[0m         \u001b[1;31m# open handles\u001b[0m\u001b[1;33m\u001b[0m\u001b[1;33m\u001b[0m\u001b[0m\n\u001b[1;32m---> 51\u001b[1;33m         \u001b[0mself\u001b[0m\u001b[1;33m.\u001b[0m\u001b[0m_open_handles\u001b[0m\u001b[1;33m(\u001b[0m\u001b[0msrc\u001b[0m\u001b[1;33m,\u001b[0m \u001b[0mkwds\u001b[0m\u001b[1;33m)\u001b[0m\u001b[1;33m\u001b[0m\u001b[1;33m\u001b[0m\u001b[0m\n\u001b[0m\u001b[0;32m     52\u001b[0m         \u001b[1;32massert\u001b[0m \u001b[0mself\u001b[0m\u001b[1;33m.\u001b[0m\u001b[0mhandles\u001b[0m \u001b[1;32mis\u001b[0m \u001b[1;32mnot\u001b[0m \u001b[1;32mNone\u001b[0m\u001b[1;33m\u001b[0m\u001b[1;33m\u001b[0m\u001b[0m\n\u001b[0;32m     53\u001b[0m \u001b[1;33m\u001b[0m\u001b[0m\n",
      "\u001b[1;32m~\\anaconda3\\lib\\site-packages\\pandas\\io\\parsers\\base_parser.py\u001b[0m in \u001b[0;36m_open_handles\u001b[1;34m(self, src, kwds)\u001b[0m\n\u001b[0;32m    220\u001b[0m         \u001b[0mLet\u001b[0m \u001b[0mthe\u001b[0m \u001b[0mreaders\u001b[0m \u001b[0mopen\u001b[0m \u001b[0mIOHandles\u001b[0m \u001b[0mafter\u001b[0m \u001b[0mthey\u001b[0m \u001b[0mare\u001b[0m \u001b[0mdone\u001b[0m \u001b[1;32mwith\u001b[0m \u001b[0mtheir\u001b[0m \u001b[0mpotential\u001b[0m \u001b[0mraises\u001b[0m\u001b[1;33m.\u001b[0m\u001b[1;33m\u001b[0m\u001b[1;33m\u001b[0m\u001b[0m\n\u001b[0;32m    221\u001b[0m         \"\"\"\n\u001b[1;32m--> 222\u001b[1;33m         self.handles = get_handle(\n\u001b[0m\u001b[0;32m    223\u001b[0m             \u001b[0msrc\u001b[0m\u001b[1;33m,\u001b[0m\u001b[1;33m\u001b[0m\u001b[1;33m\u001b[0m\u001b[0m\n\u001b[0;32m    224\u001b[0m             \u001b[1;34m\"r\"\u001b[0m\u001b[1;33m,\u001b[0m\u001b[1;33m\u001b[0m\u001b[1;33m\u001b[0m\u001b[0m\n",
      "\u001b[1;32m~\\anaconda3\\lib\\site-packages\\pandas\\io\\common.py\u001b[0m in \u001b[0;36mget_handle\u001b[1;34m(path_or_buf, mode, encoding, compression, memory_map, is_text, errors, storage_options)\u001b[0m\n\u001b[0;32m    700\u001b[0m         \u001b[1;32mif\u001b[0m \u001b[0mioargs\u001b[0m\u001b[1;33m.\u001b[0m\u001b[0mencoding\u001b[0m \u001b[1;32mand\u001b[0m \u001b[1;34m\"b\"\u001b[0m \u001b[1;32mnot\u001b[0m \u001b[1;32min\u001b[0m \u001b[0mioargs\u001b[0m\u001b[1;33m.\u001b[0m\u001b[0mmode\u001b[0m\u001b[1;33m:\u001b[0m\u001b[1;33m\u001b[0m\u001b[1;33m\u001b[0m\u001b[0m\n\u001b[0;32m    701\u001b[0m             \u001b[1;31m# Encoding\u001b[0m\u001b[1;33m\u001b[0m\u001b[1;33m\u001b[0m\u001b[0m\n\u001b[1;32m--> 702\u001b[1;33m             handle = open(\n\u001b[0m\u001b[0;32m    703\u001b[0m                 \u001b[0mhandle\u001b[0m\u001b[1;33m,\u001b[0m\u001b[1;33m\u001b[0m\u001b[1;33m\u001b[0m\u001b[0m\n\u001b[0;32m    704\u001b[0m                 \u001b[0mioargs\u001b[0m\u001b[1;33m.\u001b[0m\u001b[0mmode\u001b[0m\u001b[1;33m,\u001b[0m\u001b[1;33m\u001b[0m\u001b[1;33m\u001b[0m\u001b[0m\n",
      "\u001b[1;31mFileNotFoundError\u001b[0m: [Errno 2] No such file or directory: 'src/fram.txt'"
     ]
    }
   ],
   "source": [
    "# exercise 1\n",
    "def get_path(filename):\n",
    "    import sys\n",
    "    import os\n",
    "    prog_name = sys.argv[0]\n",
    "    if os.path.basename(prog_name) == \"__main__.py\":   # Running under TMC\n",
    "        return os.path.join(os.path.dirname(prog_name), \"..\", \"src\", filename)\n",
    "    else:\n",
    "        return filename\n",
    "    \n",
    "# Put your solution here!\n",
    "fram = pd.read_csv('src/fram.txt', sep=\"\\t\")\n",
    "print(fram.head())\n",
    "fram.describe()\n",
    "\n",
    "\n"
   ]
  },
  {
   "cell_type": "markdown",
   "metadata": {},
   "source": [
    "Create function `rescale` that takes a Series as parameter. It should center the data and normalize it by dividing\n",
    "by 2$\\sigma$, where $\\sigma$ is the standard deviation. Return the rescaled Series."
   ]
  },
  {
   "cell_type": "code",
   "execution_count": null,
   "metadata": {},
   "outputs": [],
   "source": [
    "# exercise 2\n",
    "# Put your solution here!\n",
    "\n",
    "def rescale(s): \n",
    "    normalized = (s - s.mean()) / (2 * s.std())\n",
    "    return normalized"
   ]
  },
  {
   "cell_type": "markdown",
   "metadata": {},
   "source": [
    "Add to the DataFrame the scaled versions of all the continuous variables (with function `rescale`). Add small letter `s` in front of the original variable name to get the name of the scaled variable. For instance, `AGE` -> `sAGE`."
   ]
  },
  {
   "cell_type": "code",
   "execution_count": null,
   "metadata": {},
   "outputs": [
    {
     "name": "stdout",
     "output_type": "stream",
     "text": [
      "        ID     SEX  AGE  FRW  SBP  SBP10  DBP  CHOL  CIG  CHD  ...      sSBP  \\\n",
      "0     4988  female   57  135  186    NaN  120   150    0    1  ...  0.676501   \n",
      "1     3001  female   60  123  165    NaN  100   167   25    0  ...  0.301796   \n",
      "2     5079  female   54  115  140    NaN   90   213    5    0  ... -0.144281   \n",
      "3     5162  female   52  102  170    NaN  104   280   15    0  ...  0.391012   \n",
      "4     4672  female   45   99  185    NaN  105   326   20    0  ...  0.658658   \n",
      "...    ...     ...  ...  ...  ...    ...  ...   ...  ...  ...  ...       ...   \n",
      "1389  4132    male   51  100  160    NaN   98   216   30    0  ...  0.212581   \n",
      "1390  5418    male   50   95  174    NaN  106   192    5    0  ...  0.462384   \n",
      "1391  6260    male   57   88  144    NaN   96   184   20    0  ... -0.072908   \n",
      "1392  5786    male   62   87  156    NaN   90   255    0    0  ...  0.141209   \n",
      "1393  6071    male   45   83  156    NaN   90   255   15    0  ...  0.141209   \n",
      "\n",
      "      sSBP10      sDBP     sCHOL      sCIG      sCHD    sDEATH  sYRS_DTH  \\\n",
      "0        NaN  1.049625 -0.914016 -0.346569 -0.035923  0.827181 -0.665514   \n",
      "1        NaN  0.346698 -0.730446  0.732493 -0.227056  1.295472  0.099516   \n",
      "2        NaN -0.004765 -0.233727 -0.130757 -0.227056  0.983278 -0.410504   \n",
      "3        NaN  0.487283  0.489755  0.300868 -0.227056  0.827181 -0.665514   \n",
      "4        NaN  0.522430  0.986475  0.516680 -0.227056  1.295472  0.099516   \n",
      "...      ...       ...       ...       ...       ...       ...       ...   \n",
      "1389     NaN  0.276405 -0.201332  0.948305 -0.227056  0.827181 -0.665514   \n",
      "1390     NaN  0.557576 -0.460490 -0.130757 -0.227056  0.983278 -0.410504   \n",
      "1391     NaN  0.206113 -0.546876  0.516680 -0.227056  0.202792 -1.685555   \n",
      "1392     NaN -0.004765  0.219799 -0.346569 -0.227056  0.514986 -1.175534   \n",
      "1393     NaN -0.004765  0.219799  0.300868 -0.227056  0.514986 -1.175534   \n",
      "\n",
      "      HIGH_BP  hasCHD  \n",
      "0           1       1  \n",
      "1           1       0  \n",
      "2           1       0  \n",
      "3           1       0  \n",
      "4           1       0  \n",
      "...       ...     ...  \n",
      "1389        1       0  \n",
      "1390        1       0  \n",
      "1391        1       0  \n",
      "1392        1       0  \n",
      "1393        1       0  \n",
      "\n",
      "[1394 rows x 26 columns]\n"
     ]
    }
   ],
   "source": [
    "# exercise 3\n",
    "# Put your solution here!\n",
    "\n",
    "fram[\"sAGE\"] = rescale(fram.AGE)\n",
    "fram[\"sFRW\"] = rescale(fram.FRW)\n",
    "fram[\"sSBP\"] = rescale(fram.SBP)\n",
    "fram[\"sSBP10\"] = rescale(fram.SBP10)\n",
    "fram[\"sDBP\"] = rescale(fram.DBP)\n",
    "fram[\"sCHOL\"] = rescale(fram.CHOL)\n",
    "fram[\"sCIG\"] = rescale(fram.CIG)\n",
    "fram[\"sCHD\"] = rescale(fram.CHD)\n",
    "fram[\"sDEATH\"] = rescale(fram.DEATH)\n",
    "fram[\"sYRS_DTH\"] = rescale(fram.YRS_DTH)\n",
    "\n",
    "# YRS_CHD is not rescaled. It includes values \"pre\" and therefore it would not be valid to calculate mean without taking into consideration these values. \n",
    "# Also replacing all of them with value \"-1\" (or any other number) is not valid as it would change the mean significantly. Including rescaled \"sYRS_CHD\" could produce highly biased results.\n",
    "\n",
    "print(fram)\n"
   ]
  },
  {
   "cell_type": "markdown",
   "metadata": {},
   "source": [
    "Form a model that predicts systolic blood pressure using weight, gender, and cholesterol level as explanatory variables. Store the fitted model in variable named `fit`."
   ]
  },
  {
   "cell_type": "code",
   "execution_count": null,
   "metadata": {},
   "outputs": [
    {
     "name": "stdout",
     "output_type": "stream",
     "text": [
      "                            OLS Regression Results                            \n",
      "==============================================================================\n",
      "Dep. Variable:                    SBP   R-squared:                       0.125\n",
      "Model:                            OLS   Adj. R-squared:                  0.123\n",
      "Method:                 Least Squares   F-statistic:                     66.37\n",
      "Date:                Sun, 27 Mar 2022   Prob (F-statistic):           4.13e-40\n",
      "Time:                        17:32:44   Log-Likelihood:                -6530.4\n",
      "No. Observations:                1394   AIC:                         1.307e+04\n",
      "Df Residuals:                    1390   BIC:                         1.309e+04\n",
      "Df Model:                           3                                         \n",
      "Covariance Type:            nonrobust                                         \n",
      "===============================================================================\n",
      "                  coef    std err          t      P>|t|      [0.025      0.975]\n",
      "-------------------------------------------------------------------------------\n",
      "Intercept     150.0199      0.985    152.336      0.000     148.088     151.952\n",
      "SEX[T.male]    -4.0659      1.451     -2.803      0.005      -6.912      -1.220\n",
      "sFRW           17.7142      1.425     12.431      0.000      14.919      20.510\n",
      "sCHOL           4.9152      1.430      3.436      0.001       2.109       7.721\n",
      "==============================================================================\n",
      "Omnibus:                      327.612   Durbin-Watson:                   1.774\n",
      "Prob(Omnibus):                  0.000   Jarque-Bera (JB):              843.676\n",
      "Skew:                           1.237   Prob(JB):                    6.28e-184\n",
      "Kurtosis:                       5.899   Cond. No.                         2.79\n",
      "==============================================================================\n",
      "\n",
      "Notes:\n",
      "[1] Standard Errors assume that the covariance matrix of the errors is correctly specified.\n"
     ]
    }
   ],
   "source": [
    "# exercise 4\n",
    "# Put your solution here!\n",
    "\n",
    "# From now on I am using normalized values for continuous variables, as they help better interpret the resulting regression coefficients.\n",
    "\n",
    "fit = smf.ols('SBP ~ sFRW + SEX + sCHOL', data=fram).fit()\n",
    "print(fit.summary())"
   ]
  },
  {
   "cell_type": "markdown",
   "metadata": {},
   "source": [
    "Add the variable AGE to the model and inspect the estimates of the coefficients using the `summary` method of the fitted model. Again use the name `fit` for the fitted model. (From now on assume that we always use the name `fit` for the variable of the fitted model.)"
   ]
  },
  {
   "cell_type": "code",
   "execution_count": null,
   "metadata": {},
   "outputs": [
    {
     "name": "stdout",
     "output_type": "stream",
     "text": [
      "                            OLS Regression Results                            \n",
      "==============================================================================\n",
      "Dep. Variable:                    SBP   R-squared:                       0.146\n",
      "Model:                            OLS   Adj. R-squared:                  0.144\n",
      "Method:                 Least Squares   F-statistic:                     59.39\n",
      "Date:                Sun, 27 Mar 2022   Prob (F-statistic):           2.44e-46\n",
      "Time:                        17:33:14   Log-Likelihood:                -6513.6\n",
      "No. Observations:                1394   AIC:                         1.304e+04\n",
      "Df Residuals:                    1389   BIC:                         1.306e+04\n",
      "Df Model:                           4                                         \n",
      "Covariance Type:            nonrobust                                         \n",
      "===============================================================================\n",
      "                  coef    std err          t      P>|t|      [0.025      0.975]\n",
      "-------------------------------------------------------------------------------\n",
      "Intercept     150.1695      0.974    154.221      0.000     148.259     152.080\n",
      "SEX[T.male]    -4.3805      1.435     -3.053      0.002      -7.195      -1.566\n",
      "sFRW           16.9710      1.414     11.999      0.000      14.197      19.745\n",
      "sCHOL           4.2681      1.418      3.009      0.003       1.486       7.050\n",
      "sAGE            8.1303      1.399      5.810      0.000       5.385      10.875\n",
      "==============================================================================\n",
      "Omnibus:                      321.087   Durbin-Watson:                   1.807\n",
      "Prob(Omnibus):                  0.000   Jarque-Bera (JB):              840.955\n",
      "Skew:                           1.206   Prob(JB):                    2.45e-183\n",
      "Kurtosis:                       5.944   Cond. No.                         2.82\n",
      "==============================================================================\n",
      "\n",
      "Notes:\n",
      "[1] Standard Errors assume that the covariance matrix of the errors is correctly specified.\n"
     ]
    }
   ],
   "source": [
    "# exercise 5\n",
    "# Put your solution here!\n",
    "fit = smf.ols('SBP ~ sFRW + SEX + sCHOL + sAGE', data=fram).fit()\n",
    "print(fit.summary())\n"
   ]
  },
  {
   "cell_type": "markdown",
   "metadata": {},
   "source": [
    "How much does the inclusion of age increase the explanatory power of the model? Which variables explain the variance of the target variable most?\n",
    "\n",
    "***\n",
    "Inclusion of age increases the explanatory power of the model 2,1%, FRW explanes the variance of the target variable the most and the variable age explanes the target variable the second most.\n",
    "\n",
    "Arguments:\n",
    "\n",
    "Model´s explanatory power can be inspected by R-squared. In case of multiple regression, adjusted R-squared is better, as it takes in consideration complexity of the model and number of variables used.\n",
    "\n",
    "First model:  Adjusted R-squared:    0.123\n",
    "Second model: Adjusted R-squared:    0.144\n",
    "\n",
    "According to these, the first model explanes 12,3% of the target variable and second 14.4%, which is 2,1% more. On the other hand, (14.4-12.3)/12.3 = 0.1707... and therefore the explanatory power of the second model is 17% higher that the explanatory power of the first model.\n",
    "\n",
    "Also p-value of F-statistics is smaller for the second model, which tells that second model explanes the target variable better than the first one.\n",
    "\n",
    "Weight (FRW) explanes the variance of systolic blood pressure the most and age the second most.\n",
    "Coefficients are cleary bigger than 0, std errors are quite small and p-values are small. Weight (FRW) has bigges coefficient and is therefore to consider as the variable that explain the target variable the most. Age has second highest coefficient.\n",
    "\n",
    "\n",
    "***"
   ]
  },
  {
   "cell_type": "markdown",
   "metadata": {},
   "source": [
    "Try to add to the model all the interactions with other variables. "
   ]
  },
  {
   "cell_type": "code",
   "execution_count": null,
   "metadata": {},
   "outputs": [
    {
     "name": "stdout",
     "output_type": "stream",
     "text": [
      "                            OLS Regression Results                            \n",
      "==============================================================================\n",
      "Dep. Variable:                    SBP   R-squared:                       0.151\n",
      "Model:                            OLS   Adj. R-squared:                  0.144\n",
      "Method:                 Least Squares   F-statistic:                     24.52\n",
      "Date:                Sun, 27 Mar 2022   Prob (F-statistic):           4.92e-43\n",
      "Time:                        17:33:18   Log-Likelihood:                -6509.9\n",
      "No. Observations:                1394   AIC:                         1.304e+04\n",
      "Df Residuals:                    1383   BIC:                         1.310e+04\n",
      "Df Model:                          10                                         \n",
      "Covariance Type:            nonrobust                                         \n",
      "=====================================================================================\n",
      "                        coef    std err          t      P>|t|      [0.025      0.975]\n",
      "-------------------------------------------------------------------------------------\n",
      "Intercept           150.5439      1.001    150.355      0.000     148.580     152.508\n",
      "SEX[T.male]          -4.7309      1.451     -3.261      0.001      -7.577      -1.885\n",
      "sFRW                 16.6390      1.722      9.660      0.000      13.260      20.018\n",
      "sFRW:SEX[T.male]      1.6667      3.087      0.540      0.589      -4.389       7.722\n",
      "sCHOL                 3.6168      1.877      1.926      0.054      -0.066       7.300\n",
      "SEX[T.male]:sCHOL     1.0227      2.932      0.349      0.727      -4.728       6.774\n",
      "sAGE                 10.2152      2.003      5.101      0.000       6.287      14.144\n",
      "SEX[T.male]:sAGE     -4.2908      2.885     -1.488      0.137      -9.949       1.368\n",
      "sFRW:sCHOL            4.9694      2.716      1.829      0.068      -0.359      10.298\n",
      "sFRW:sAGE            -2.0851      2.801     -0.744      0.457      -7.580       3.410\n",
      "sCHOL:sAGE           -4.7530      3.042     -1.563      0.118     -10.720       1.214\n",
      "==============================================================================\n",
      "Omnibus:                      313.112   Durbin-Watson:                   1.798\n",
      "Prob(Omnibus):                  0.000   Jarque-Bera (JB):              802.290\n",
      "Skew:                           1.185   Prob(JB):                    6.10e-175\n",
      "Kurtosis:                       5.863   Cond. No.                         6.01\n",
      "==============================================================================\n",
      "\n",
      "Notes:\n",
      "[1] Standard Errors assume that the covariance matrix of the errors is correctly specified.\n"
     ]
    }
   ],
   "source": [
    "# exercise 6\n",
    "# Put your solution here!\n",
    "\n",
    "fit = smf.ols('SBP ~ sFRW + SEX + sCHOL + sAGE + sFRW:SEX + sFRW:sCHOL + sFRW:sAGE + SEX:sCHOL + SEX:sAGE + sCHOL:sAGE', data=fram).fit()\n",
    "print(fit.summary())\n",
    "    "
   ]
  },
  {
   "cell_type": "markdown",
   "metadata": {},
   "source": [
    "Then visualize the model as the function of weight for the youngest (sAGE=-1.0), middle aged (sAGE=0.0), and oldest (sAGE=1.0) women while assuming the background variables to be centered. Remember to consider the changes in the intercept and in the regression coefficient caused by age. Visualize both the data points and the fitted lines."
   ]
  },
  {
   "cell_type": "code",
   "execution_count": null,
   "metadata": {},
   "outputs": [
    {
     "data": {
      "image/png": "[encoded data removed]",
      "text/plain": [
       "<Figure size 432x288 with 1 Axes>"
      ]
     },
     "metadata": {
      "needs_background": "light"
     },
     "output_type": "display_data"
    }
   ],
   "source": [
    "# exercise 7\n",
    "# Put your solution here!\n",
    "\n",
    "\n",
    "fit = smf.ols('SBP ~ sFRW + SEX + sCHOL + sAGE + sFRW:SEX + sFRW:sCHOL + sFRW:sAGE + SEX:sCHOL + SEX:sAGE + sCHOL:sAGE', data=fram).fit()\n",
    "#print(fit.summary())\n",
    "p=fit.params\n",
    "#plot the data points\n",
    "fram[fram.SEX==\"female\"].plot.scatter(\"sFRW\", \"SBP\")\n",
    "#draw the fitted regression lines\n",
    "abline_plot(intercept=p.Intercept - p[\"sAGE\"], slope=p.sFRW - p[\"sFRW:sAGE\"],ax=plt.gca(), color=\"blue\", label=\"youngest\")\n",
    "abline_plot(intercept=p.Intercept, slope=p.sFRW,ax=plt.gca(), color=\"magenta\", label=\"middle aged\")\n",
    "abline_plot(intercept=p.Intercept + p[\"sAGE\"], slope=p.sFRW + p[\"sFRW:sAGE\"],ax=plt.gca(), color=\"red\", label=\"oldest\")\n",
    "plt.legend()\n",
    "plt.show()"
   ]
  },
  {
   "cell_type": "markdown",
   "metadata": {},
   "source": [
    "How does the dependence of blood pressure on weight change as a person gets older?\n",
    "***\n",
    "\n",
    "The older a person is, the higher systolic blood pressure is.\n",
    "\n",
    "Also, the younger a person is, the more weight affects the systolic blood pressure (slope of \"youngest\" regressionline is biggest and slope of \"oldest\" regressionline is smallest). The older a person gets, the higher blood pressure is, despite of the weight of a person. The older person is, the higher blood pressure is also for the people who´s weight is low.\n",
    "\n",
    "***"
   ]
  },
  {
   "cell_type": "markdown",
   "metadata": {},
   "source": [
    "### Even more accurate model\n",
    "\n",
    "Include the background variable `sCIG` from the data and its interactions. Visualize the model for systolic blood pressure as the function of the most important explanatory variable. Visualize separate lines for the small (-1.0), average (0.0), and large (1.0) values of `sCHOL`. Other variables can be assumed to be at their mean value."
   ]
  },
  {
   "cell_type": "code",
   "execution_count": null,
   "metadata": {},
   "outputs": [
    {
     "name": "stdout",
     "output_type": "stream",
     "text": [
      "                            OLS Regression Results                            \n",
      "==============================================================================\n",
      "Dep. Variable:                    SBP   R-squared:                       0.152\n",
      "Model:                            OLS   Adj. R-squared:                  0.143\n",
      "Method:                 Least Squares   F-statistic:                     16.50\n",
      "Date:                Sun, 27 Mar 2022   Prob (F-statistic):           2.99e-40\n",
      "Time:                        17:33:25   Log-Likelihood:                -6508.6\n",
      "No. Observations:                1394   AIC:                         1.305e+04\n",
      "Df Residuals:                    1378   BIC:                         1.313e+04\n",
      "Df Model:                          15                                         \n",
      "Covariance Type:            nonrobust                                         \n",
      "=====================================================================================\n",
      "                        coef    std err          t      P>|t|      [0.025      0.975]\n",
      "-------------------------------------------------------------------------------------\n",
      "Intercept           151.3182      1.160    130.456      0.000     149.043     153.594\n",
      "SEX[T.male]          -5.3834      1.598     -3.368      0.001      -8.519      -2.248\n",
      "sFRW                 17.6352      1.865      9.455      0.000      13.976      21.294\n",
      "sFRW:SEX[T.male]     -0.1139      3.440     -0.033      0.974      -6.862       6.634\n",
      "sCHOL                 3.2945      1.964      1.677      0.094      -0.559       7.148\n",
      "SEX[T.male]:sCHOL     1.4364      3.141      0.457      0.648      -4.725       7.598\n",
      "sAGE                 10.3577      2.118      4.890      0.000       6.203      14.513\n",
      "SEX[T.male]:sAGE     -4.4232      3.178     -1.392      0.164     -10.657       1.811\n",
      "sCIG                  3.7719      3.104      1.215      0.225      -2.318       9.862\n",
      "SEX[T.male]:sCIG     -3.9080      3.598     -1.086      0.278     -10.966       3.150\n",
      "sCHOL:sFRW            4.8877      2.733      1.788      0.074      -0.474      10.250\n",
      "sFRW:sAGE            -1.8488      2.846     -0.650      0.516      -7.431       3.734\n",
      "sFRW:sCIG             3.6739      3.371      1.090      0.276      -2.938      10.286\n",
      "sCHOL:sAGE           -4.8474      3.089     -1.569      0.117     -10.906       1.211\n",
      "sCHOL:sCIG           -1.6332      3.366     -0.485      0.628      -8.236       4.969\n",
      "sCIG:sAGE            -0.3244      3.140     -0.103      0.918      -6.485       5.836\n",
      "==============================================================================\n",
      "Omnibus:                      303.518   Durbin-Watson:                   1.802\n",
      "Prob(Omnibus):                  0.000   Jarque-Bera (JB):              750.095\n",
      "Skew:                           1.164   Prob(JB):                    1.32e-163\n",
      "Kurtosis:                       5.738   Cond. No.                         7.93\n",
      "==============================================================================\n",
      "\n",
      "Notes:\n",
      "[1] Standard Errors assume that the covariance matrix of the errors is correctly specified.\n"
     ]
    },
    {
     "data": {
      "text/plain": [
       "<matplotlib.legend.Legend at 0x1f4429f8130>"
      ]
     },
     "execution_count": 174,
     "metadata": {},
     "output_type": "execute_result"
    },
    {
     "data": {
      "image/png": "[encoded data removed]",
      "text/plain": [
       "<Figure size 432x288 with 1 Axes>"
      ]
     },
     "metadata": {
      "needs_background": "light"
     },
     "output_type": "display_data"
    }
   ],
   "source": [
    "# exercise 8\n",
    "# Put your solution here!\n",
    "\n",
    "fit = smf.ols('SBP ~ sFRW + SEX + sCHOL + sAGE + sCIG + sFRW:SEX + sCHOL:sFRW + sFRW:sAGE +sFRW:sCIG + SEX:sCHOL + SEX:sAGE + SEX:sCIG + sCHOL:sAGE + sCHOL:sCIG + sCIG:sAGE', data=fram).fit()\n",
    "print(fit.summary())\n",
    "# When running the previous line, we see that the sFRW has biggest coefficient, meaning it can be considered as \"the most important explanatory variable\".\n",
    "p=fit.params\n",
    "\n",
    "fram.plot.scatter(\"sFRW\", \"SBP\")\n",
    "abline_plot(intercept=p.Intercept - p[\"sCHOL\"], slope=p.sFRW - p[\"sCHOL:sFRW\"],ax=plt.gca(), color=\"blue\", label=\"small\")\n",
    "abline_plot(intercept=p.Intercept, slope=p.sFRW,ax=plt.gca(), color=\"magenta\", label=\"average\")\n",
    "abline_plot(intercept=p.Intercept + p[\"sCHOL\"], slope=p.sFRW + p[\"sCHOL:sFRW\"],ax=plt.gca(), color=\"red\", label=\"large\")\n",
    "plt.legend()\n",
    "    "
   ]
  },
  {
   "cell_type": "markdown",
   "metadata": {},
   "source": [
    "How does the model and its accuracy look?\n",
    "\n",
    "***\n",
    "\n",
    "R-squared:   0.152 is slightly (0.001) higher than in the previous model, but adjusted R-squared is 0.001 lower than in the previous model (ex. 6).\n",
    "R squared is quite low. The model seems to explane only 15% of the systolic blood pressure. Also in the visualization can cleary be seen that data points doesn´t form a line around fitted lines.\n",
    "\n",
    "***"
   ]
  },
  {
   "cell_type": "markdown",
   "metadata": {},
   "source": [
    "# Logistic regression"
   ]
  },
  {
   "cell_type": "code",
   "execution_count": null,
   "metadata": {},
   "outputs": [],
   "source": [
    "def logistic(x):\n",
    "    return 1.0 / (1.0 + np.exp(-x))"
   ]
  },
  {
   "cell_type": "markdown",
   "metadata": {},
   "source": [
    "We will continue predicting high blood pressure by taking in some continuous background variables, such as the age."
   ]
  },
  {
   "cell_type": "markdown",
   "metadata": {},
   "source": [
    "Recreate the model `HIGH_BP ~ sFRW + SEX + SEX:sFRW` presented in the introduction. Make sure, that you get the same results. Use name `fit` for the fitted model. Compute and store the error rate into variable `error_rate_orig`."
   ]
  },
  {
   "cell_type": "code",
   "execution_count": null,
   "metadata": {},
   "outputs": [
    {
     "name": "stdout",
     "output_type": "stream",
     "text": [
      "                 Generalized Linear Model Regression Results                  \n",
      "==============================================================================\n",
      "Dep. Variable:                HIGH_BP   No. Observations:                 1394\n",
      "Model:                            GLM   Df Residuals:                     1390\n",
      "Model Family:                Binomial   Df Model:                            3\n",
      "Link Function:                  logit   Scale:                          1.0000\n",
      "Method:                          IRLS   Log-Likelihood:                -856.87\n",
      "Date:                Sun, 27 Mar 2022   Deviance:                       1713.7\n",
      "Time:                        17:33:35   Pearson chi2:                 1.39e+03\n",
      "No. Iterations:                     4                                         \n",
      "Covariance Type:            nonrobust                                         \n",
      "====================================================================================\n",
      "                       coef    std err          z      P>|z|      [0.025      0.975]\n",
      "------------------------------------------------------------------------------------\n",
      "Intercept            0.7631      0.082      9.266      0.000       0.602       0.925\n",
      "SEX[T.male]         -0.1624      0.120     -1.350      0.177      -0.398       0.073\n",
      "sFRW                 1.0734      0.176      6.095      0.000       0.728       1.419\n",
      "SEX[T.male]:sFRW     0.2708      0.287      0.943      0.346      -0.292       0.834\n",
      "====================================================================================\n",
      "error_rate_orig: 0.35581061692969873\n"
     ]
    }
   ],
   "source": [
    "# exercise 9\n",
    "# Put your solution here!\n",
    "\n",
    "fram[\"HIGH_BP\"] = (fram.SBP >= 140) | (fram.DBP >= 90)\n",
    "fram.HIGH_BP = fram.HIGH_BP.map(int)\n",
    "fram.HIGH_BP.head()\n",
    "\n",
    "fit=smf.glm('HIGH_BP ~ sFRW + SEX + SEX:sFRW', data=fram, family=sm.families.Binomial()).fit()\n",
    "print(fit.summary())\n",
    "\n",
    "error_rate_orig = np.mean(((fit.fittedvalues < 0.5) & fram.HIGH_BP) | ((fit.fittedvalues > 0.5) & ~fram.HIGH_BP))\n",
    "print(f'error_rate_orig: {error_rate_orig}')"
   ]
  },
  {
   "cell_type": "markdown",
   "metadata": {},
   "source": [
    "Add the `sAGE` variable and its interactions. Check the prediction accuracy of the model and compare it to the previous model. Store the prediction accuracy to variable `error_rate`."
   ]
  },
  {
   "cell_type": "code",
   "execution_count": null,
   "metadata": {},
   "outputs": [
    {
     "name": "stdout",
     "output_type": "stream",
     "text": [
      "                 Generalized Linear Model Regression Results                  \n",
      "==============================================================================\n",
      "Dep. Variable:                HIGH_BP   No. Observations:                 1394\n",
      "Model:                            GLM   Df Residuals:                     1387\n",
      "Model Family:                Binomial   Df Model:                            6\n",
      "Link Function:                  logit   Scale:                          1.0000\n",
      "Method:                          IRLS   Log-Likelihood:                -845.51\n",
      "Date:                Sun, 27 Mar 2022   Deviance:                       1691.0\n",
      "Time:                        17:33:38   Pearson chi2:                 1.39e+03\n",
      "No. Iterations:                     4                                         \n",
      "Covariance Type:            nonrobust                                         \n",
      "====================================================================================\n",
      "                       coef    std err          z      P>|z|      [0.025      0.975]\n",
      "------------------------------------------------------------------------------------\n",
      "Intercept            0.8079      0.084      9.569      0.000       0.642       0.973\n",
      "SEX[T.male]         -0.1983      0.121     -1.632      0.103      -0.436       0.040\n",
      "sFRW                 1.0193      0.180      5.670      0.000       0.667       1.372\n",
      "sFRW:SEX[T.male]     0.3753      0.289      1.297      0.195      -0.192       0.942\n",
      "sAGE                 0.6006      0.173      3.466      0.001       0.261       0.940\n",
      "SEX[T.male]:sAGE    -0.5725      0.239     -2.392      0.017      -1.042      -0.103\n",
      "sAGE:sFRW           -0.7583      0.276     -2.750      0.006      -1.299      -0.218\n",
      "====================================================================================\n",
      "error_rate: 0.3278335724533716\n"
     ]
    }
   ],
   "source": [
    "# exercise 10\n",
    "# Put your solution here!\n",
    "fit=smf.glm('HIGH_BP ~ sFRW + SEX + sFRW:SEX + sAGE + sAGE:sFRW + SEX:sAGE', data=fram, family=sm.families.Binomial()).fit()\n",
    "print(fit.summary())\n",
    "\n",
    "#again error rate\n",
    "error_rate = np.mean(((fit.fittedvalues < 0.5) & fram.HIGH_BP) | ((fit.fittedvalues > 0.5) & ~fram.HIGH_BP))\n",
    "print(f'error_rate: {error_rate}')\n",
    "# error rate is now smaller than in the previous model, meaning that adding age and it´s interactions to the model makes the model more accurate."
   ]
  },
  {
   "cell_type": "markdown",
   "metadata": {},
   "source": [
    "Visualize the predicted probability of high blood pressure as the function of weight. Remember to use normalized values (`rescale`) also for those variables that are not included in the visualization, so that sensible values are used for them (data average). Draw two figures with altogether six curves: young, middle aged, and old women; and young, middle aged, and old men. Use `plt.subplots`. (Plotting works in similar fashion as in the introduction. The argument factors need, however, be changed as in the example about visualisation of continuous variable.) "
   ]
  },
  {
   "cell_type": "code",
   "execution_count": null,
   "metadata": {},
   "outputs": [
    {
     "data": {
      "text/plain": [
       "Text(0.5, 1.0, 'male')"
      ]
     },
     "execution_count": 179,
     "metadata": {},
     "output_type": "execute_result"
    },
    {
     "data": {
      "image/png": "[encoded data removed]",
      "text/plain": [
       "<Figure size 1008x288 with 2 Axes>"
      ]
     },
     "metadata": {
      "needs_background": "light"
     },
     "output_type": "display_data"
    }
   ],
   "source": [
    "# exercise 11\n",
    "\n",
    "def logistic(x):\n",
    "\n",
    "    return 1.0 / (1.0 + np.exp(-x))\n",
    "\n",
    "#young, middle aged and old ages defined as follows:\n",
    "young = 47\n",
    "middle_aged = 53\n",
    "old = 61\n",
    "#normalized ages:\n",
    "young = (47 - np.mean(fram.AGE)) / (2*np.std(fram.AGE))\n",
    "middle_aged = (53 - np.mean(fram.AGE)) / (2*np.std(fram.AGE))\n",
    "old = (61 - np.mean(fram.AGE)) / (2*np.std(fram.AGE))\n",
    "\n",
    "#used model is \"fit\" from exercise 10\n",
    "p=fit.params\n",
    "\n",
    "#two figures\n",
    "fig, ax = plt.subplots(1,2, subplot_kw={ \"xlabel\": \"sFRW\", \"ylabel\": \"HIGH_BP\"}, figsize=(14, 4))\n",
    "\n",
    "#female, data points\n",
    "ax[0].scatter(fram.sFRW[(fram.SEX==\"female\")], fram.HIGH_BP[(fram.SEX==\"female\")], marker=\"d\")\n",
    "X=np.linspace(-2, 4, 100)\n",
    "#female, lines\n",
    "ax[0].plot(X, logistic(X* (p.sFRW + young  )        + p.Intercept), color=\"blue\", label=\"young\")\n",
    "ax[0].plot(X, logistic(X* (p.sFRW + middle_aged)    + p.Intercept), color=\"magenta\", label=\"middle-aged\")\n",
    "ax[0].plot(X, logistic(X* (p.sFRW + old)            + p.Intercept), color=\"red\", label=\"old\")\n",
    "ax[0].legend()\n",
    "ax[0].set_title(\"female\")\n",
    "\n",
    "#male, data points\n",
    "ax[1].scatter(fram.sFRW[(fram.SEX==\"male\")], fram.HIGH_BP[(fram.SEX==\"male\")], marker=\"d\")\n",
    "X=np.linspace(-2, 4, 100)\n",
    "#male, lines\n",
    "ax[1].plot(X, logistic(X* (p.sFRW + young        + p[\"sFRW:SEX[T.male]\"]) + p[\"SEX[T.male]\"]  + p.Intercept), color=\"blue\", label=\"young\")\n",
    "ax[1].plot(X, logistic(X* (p.sFRW + middle_aged  + p[\"sFRW:SEX[T.male]\"]) + p[\"SEX[T.male]\"]  + p.Intercept), color=\"magenta\", label=\"middle-aged\")\n",
    "ax[1].plot(X, logistic(X* (p.sFRW + old          + p[\"sFRW:SEX[T.male]\"]) + p[\"SEX[T.male]\"]  + p.Intercept), color=\"red\", label=\"old\")\n",
    "ax[1].legend()\n",
    "ax[1].set_title(\"male\")\n",
    "\n"
   ]
  },
  {
   "cell_type": "markdown",
   "metadata": {},
   "source": [
    "How do the models with different ages and genders differ from each other?\n",
    "\n",
    "***\n",
    "On women high blood pressure depends more on age and weight than on men, because the curves for different ages differ more on women. In both men and women, the older the person is, the more high blood pressure is depended on weight. For old people, according to the model, low weight indicates low blood pressure and over weight indicates high blood pressure (red curve is close to HIGH:BP 0.0 when weight is low and it is close to HIGH_BP 1.0 when weight is high, already when rescaled weight has value 1.5). The younger person is, the less low age indicates low blood pressure and the less high weight indicates high blood pressure.\n",
    "\n",
    "However, datapoints are not in left down corner and right up corner and therefore this logisic model does not seem a very good model to predict high blood pressure.\n",
    "***"
   ]
  },
  {
   "cell_type": "markdown",
   "metadata": {},
   "source": [
    "Create here a helper function `train_test_split` that gets a DataFrame as parameter and return a pair of DataFrames: one for training and the second for testing. \n",
    "The function should get parameters in the following way:\n",
    "```python\n",
    "train_test_split(df, train_fraction=0.8)\n",
    "```\n",
    "The data should be split randomly to training and testing DataFrames so that `train_fraction` fraction of data should go into the training set. Use the `sample` method of the DataFrame."
   ]
  },
  {
   "cell_type": "code",
   "execution_count": 264,
   "metadata": {},
   "outputs": [],
   "source": [
    "# exercise 12\n",
    "# Put your solution here!\n",
    "def train_test_split(df, train_fraction=0.8):\n",
    "    df_training = df.sample(frac=train_fraction, replace=False)\n",
    "    df_testing=df.drop(df_training.index)\n",
    "    return df_training, df_testing"
   ]
  },
  {
   "cell_type": "markdown",
   "metadata": {},
   "source": [
    "Check the prediction accuracy of your model using cross validation. Use 100-fold cross validation and training_fraction 0.8."
   ]
  },
  {
   "cell_type": "code",
   "execution_count": 265,
   "metadata": {},
   "outputs": [
    {
     "name": "stderr",
     "output_type": "stream",
     "text": [
      "C:\\Users\\Sanni\\AppData\\Local\\Temp/ipykernel_10512/4093251400.py:12: DeprecationWarning: Calling Family(..) with a link class as argument is deprecated.\n",
      "Use an instance of a link class instead.\n",
      "  fit=smf.glm(formula=\"HIGH_BP ~ sFRW + SEX + sFRW:SEX + sAGE + sAGE:sFRW + SEX:sAGE\", data=train, family=sm.families.Binomial(statsmodels.genmod.families.links.logit)).fit()\n"
     ]
    },
    {
     "name": "stdout",
     "output_type": "stream",
     "text": [
      "mean error model: 0.3311827956989248 \n",
      "mean error null: 0.3488530465949821\n",
      "MannwhitneyuResult(statistic=3020.0, pvalue=1.2819846293843994e-06)\n"
     ]
    }
   ],
   "source": [
    "# exercise 13\n",
    "np.random.seed(1)\n",
    "# Put your solution here!\n",
    "\n",
    "#statsmodels.genmod.families.links.logit\n",
    "#, transform=True\n",
    "# Error rate of the model:\n",
    "error_model=[]\n",
    "error_null = []\n",
    "for i in range(100):\n",
    "    train, test = train_test_split(fram, train_fraction=0.8)\n",
    "    fit=smf.glm(formula=\"HIGH_BP ~ sFRW + SEX + sFRW:SEX + sAGE + sAGE:sFRW + SEX:sAGE\", data=train, family=sm.families.Binomial(statsmodels.genmod.families.links.logit)).fit()\n",
    "    pred = fit.predict(test, transform=True) \n",
    "    error_rate = np.mean(((pred < 0.5) & (test.HIGH_BP==1)) | ((pred > 0.5) & (test.HIGH_BP==0)))\n",
    "    error_model.append(error_rate)\n",
    "    error_null.append((1 - test.HIGH_BP).mean())\n",
    "mean_error_model = pd.Series(error_model).mean()\n",
    "mean_error_null = pd.Series(error_null).mean()\n",
    "print(f'mean error model: {mean_error_model} \\nmean error null: {mean_error_null}')\n",
    "print(statsmodels.stats.stattools.stats.mannwhitneyu(error_model, error_null, alternative=\"two-sided\"))"
   ]
  },
  {
   "cell_type": "markdown",
   "metadata": {},
   "source": [
    "## Predicting coronary heart disease\n",
    "\n",
    "Let us use again the same data to learn a model for the occurrence of coronary heart disease. We will use logistic regression to predict whether a patient *sometimes* shows symptoms of coronary heart disease. For this, add to the data a binary variable `hasCHD`, that describes the event (`CHD > 0`). The binary variable `hadCHD` can get only two values: 0 or 1. As a sanity check, compute the mean of this variable, which tells the number of positive cases."
   ]
  },
  {
   "cell_type": "code",
   "execution_count": 268,
   "metadata": {},
   "outputs": [],
   "source": [
    "# exercise 14\n",
    "# Put your solution here!\n",
    "\n",
    "#creates hasCHD series\n",
    "def symptoms(s):\n",
    "    new = []\n",
    "    for item in s:\n",
    "        if item == 0:\n",
    "            new.append(0)\n",
    "        elif item > 0:\n",
    "            new.append(1)\n",
    "    return new\n",
    "\n",
    "#adds hasCHD variable to fram\n",
    "fram[\"hasCHD\"] = symptoms(fram.CHD)\n"
   ]
  },
  {
   "cell_type": "markdown",
   "metadata": {},
   "source": [
    "Next, form a logistic regression model for variable `hasCHD` by using variables sCHOL, sCIG, and sFRW, and their interactions as explanatory variables. Store the fitted model to variable `fit`. Compute the prediction accuracy of the model, store it to variable `error_rate`."
   ]
  },
  {
   "cell_type": "code",
   "execution_count": 282,
   "metadata": {},
   "outputs": [
    {
     "name": "stdout",
     "output_type": "stream",
     "text": [
      "error model: 0.22125448028673855 \n",
      "error null: 0.3488530465949821\n",
      "MannwhitneyuResult(statistic=0.0, pvalue=2.379173650786697e-34)\n"
     ]
    }
   ],
   "source": [
    "# exercise 15\n",
    "# Put your solution here!\n",
    "\n",
    "#exercise created error until I added these here again:\n",
    "def train_test_split(df, train_fraction=0.8):\n",
    "    df_training = df.sample(frac=train_fraction, replace=False)\n",
    "    df_testing = df.drop(df_training.index)\n",
    "    return df_training, df_testing\n",
    "\n",
    "fram[\"HIGH_BP\"] = (fram.SBP >= 140) | (fram.DBP >= 90)\n",
    "fram.HIGH_BP = fram.HIGH_BP.map(int)\n",
    "\n",
    "#solution to exercises 15:\n",
    "\n",
    "\n",
    "# cross validation:\n",
    "error_model = []\n",
    "error_null = []\n",
    "np.random.seed(1)\n",
    "for i in range(100):\n",
    "    train, test = train_test_split(fram)\n",
    "    fit=smf.glm(formula=\"hasCHD ~ sCIG + sFRW + sFRW:sCIG + sCHOL + sCHOL:sFRW + sCHOL:sCIG\", data=train, family=sm.families.Binomial()).fit()\n",
    "    pred = fit.predict(test) \n",
    "    error_rate = np.mean(((pred < 0.5) & (test.hasCHD==1)) | ((pred > 0.5) & (test.hasCHD==0)))\n",
    "    error_model.append(error_rate)\n",
    "    error_null.append((1 - test.HIGH_BP).mean())\n",
    "error_rate = pd.Series(error_model).mean()\n",
    "error_null_100 = pd.Series(error_null).mean()\n",
    "print(f'error model: {error_rate} \\nerror null: {error_null_100}')\n",
    "print(statsmodels.stats.stattools.stats.mannwhitneyu(error_model, error_null, alternative=\"two-sided\"))"
   ]
  },
  {
   "cell_type": "markdown",
   "metadata": {},
   "source": [
    "Visualize the model by using the most important explanator on the x axis. Visualize both the points (with `plt.scatter`)\n",
    "and the logistic curve (with `plt.plot`)."
   ]
  },
  {
   "cell_type": "code",
   "execution_count": null,
   "metadata": {},
   "outputs": [
    {
     "data": {
      "text/plain": [
       "Text(0.5, 0, 'sCIG')"
      ]
     },
     "execution_count": 185,
     "metadata": {},
     "output_type": "execute_result"
    },
    {
     "data": {
      "image/png": "[encoded data removed]",
      "text/plain": [
       "<Figure size 432x288 with 1 Axes>"
      ]
     },
     "metadata": {
      "needs_background": "light"
     },
     "output_type": "display_data"
    }
   ],
   "source": [
    "# exercise 16\n",
    "def logistic(x):\n",
    "    return 1.0 / (1.0 + np.exp(-x))\n",
    "# Put your solution here!\n",
    "\n",
    "plt.scatter(fram.sCIG, fram.hasCHD, marker=\"d\")\n",
    "X=np.linspace(-2, 4, 100)\n",
    "p = fit.params\n",
    "plt.plot(X, logistic(X* (p.sCIG + p.sFRW + p[\"sFRW:sCIG\"] + p.sCHOL + p[\"sCHOL:sFRW\"] + p[\"sCHOL:sCIG\"] ) + p.Intercept), color=\"red\")\n",
    "plt.ylabel(\"Pr(Will have symptoms)\")\n",
    "plt.xlabel(\"sCIG\")"
   ]
  },
  {
   "cell_type": "markdown",
   "metadata": {},
   "source": [
    "Is the prediction accuracy of the model good or bad? Can we expect to have practical use of the model?\n",
    "***\n",
    "Error rate of the model is significantly smaller than error rate \"null\" (calculated in exercise 15, p-value of Mannwhitneyu test is very small). Erro rate (0.22125448028673855 ) is also smaller than random guess (0.5).\n",
    "According to error rate prediction accuracy of the model looks good.\n",
    "\n",
    "Coefficients of explanatory variables (sCIG, sCHOL, sFRW) and their p-values indicate that model could be used to predict wether a person sometimes shows symptoms of coronal heart disease.\n",
    "\n",
    "Error rate: in the visualization can be seen that many of the datapoints are classified wrong. \n",
    "False positives: More than 50%  of datapoints which have value 1 are on the left side of the sigmoid´s midpoint of the logistic function. \n",
    "False negatives: There is also datapoints which have value 0 and which are on the right side of the sigmoid´s midpoint. \n",
    "\n",
    "Practical use of the model depends on intended use. In some cases this prediction accuracy would be good enough and in other not.\n",
    "***"
   ]
  },
  {
   "cell_type": "markdown",
   "metadata": {},
   "source": [
    "If a person has cholestherol 200, smokes 17 cigarets per day, and has weight 100, then what is the probability that he/she sometimes shows signs of coronal hear disease? Note that the model expects normalized values. Store the normalized values to dictionary called `point`. Store the probability in variable `predicted`."
   ]
  },
  {
   "cell_type": "code",
   "execution_count": 263,
   "metadata": {},
   "outputs": [
    {
     "name": "stdout",
     "output_type": "stream",
     "text": [
      "If a person has cholesterol 200, smokes 17 cigarets per day, and has weight 100, then the probability that he/she sometimes shows signs of coronal heart disease is: \n",
      "0.2190713229489755\n"
     ]
    }
   ],
   "source": [
    "# exercise 17\n",
    "# Put your solution here!\n",
    "# rescaled values:\n",
    "chol200 = (200 - fram.CHOL.mean()) / (2*fram.CHOL.std())\n",
    "smokes17 = (17 - fram.CIG.mean()) / (2*fram.CIG.std())\n",
    "weight100 = (100 - fram.FRW.mean()) / (2*fram.FRW.std())\n",
    "point = {\"sCHOL\":chol200 , \"sCIG\" : smokes17 , \"sFRW\" : weight100 }\n",
    "\n",
    "predicted = fit.predict(point, transform=True)[0]\n",
    "print(f'If a person has cholesterol 200, smokes 17 cigarets per day, and has weight 100, then the probability that he/she sometimes shows signs of coronal heart disease is: \\n{predicted}')"
   ]
  }
 ],
 "metadata": {
  "kernelspec": {
   "display_name": "Python 3",
   "language": "python",
   "name": "python3"
  },
  "language_info": {
   "codemirror_mode": {
    "name": "ipython",
    "version": 3
   },
   "file_extension": ".py",
   "mimetype": "text/x-python",
   "name": "python",
   "nbconvert_exporter": "python",
   "pygments_lexer": "ipython3",
   "version": "3.9.7"
  }
 },
 "nbformat": 4,
 "nbformat_minor": 2
}
